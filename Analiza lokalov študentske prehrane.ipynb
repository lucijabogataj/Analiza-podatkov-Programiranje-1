{
 "cells": [
  {
   "cell_type": "markdown",
   "metadata": {},
   "source": [
    "# Analiza lokalov študentske prehrane"
   ]
  },
  {
   "cell_type": "markdown",
   "metadata": {},
   "source": [
    "Kakor večina študentov tudi sama z veseljem koristim študentske bone, ki v nekaterih lokalih po Sloveniji nudijo pestro ponudbo prehrane, dostopnejše študentski denarnici. Koliko pravzaprav je teh lokalov? Kako so razporejeni po Sloveniji? Kje se gibljejo cene? Kaj, če si nekdo želi jesti vegetariansko ali za vikend ali če potrebuje dostop za invalide? Jeseni 2018 sem zbrala podatke iz spletne strani [Študentska prehrana](https://www.studentska-prehrana.si/sl/restaurant). Sledijo tabearični in grafični povzetki analize. "
   ]
  },
  {
   "cell_type": "code",
   "execution_count": 249,
   "metadata": {},
   "outputs": [],
   "source": [
    "import pandas as pd\n",
    "lokali = pd.read_csv('studentska_prehrana.csv', index_col='id')\n",
    "lastnosti = pd.read_csv('lastnosti_ponudbe.csv', index_col='id')\n",
    "pd.options.display.max_rows = 15"
   ]
  },
  {
   "cell_type": "code",
   "execution_count": 250,
   "metadata": {},
   "outputs": [],
   "source": [
    "%matplotlib inline"
   ]
  },
  {
   "cell_type": "code",
   "execution_count": 258,
   "metadata": {},
   "outputs": [
    {
     "data": {
      "text/html": [
       "<div>\n",
       "<style scoped>\n",
       "    .dataframe tbody tr th:only-of-type {\n",
       "        vertical-align: middle;\n",
       "    }\n",
       "\n",
       "    .dataframe tbody tr th {\n",
       "        vertical-align: top;\n",
       "    }\n",
       "\n",
       "    .dataframe thead th {\n",
       "        text-align: right;\n",
       "    }\n",
       "</style>\n",
       "<table border=\"1\" class=\"dataframe\">\n",
       "  <thead>\n",
       "    <tr style=\"text-align: right;\">\n",
       "      <th></th>\n",
       "      <th>cena</th>\n",
       "      <th>doplacilo</th>\n",
       "      <th>mesto</th>\n",
       "      <th>ocena</th>\n",
       "      <th>ime</th>\n",
       "      <th>naslov</th>\n",
       "    </tr>\n",
       "    <tr>\n",
       "      <th>id</th>\n",
       "      <th></th>\n",
       "      <th></th>\n",
       "      <th></th>\n",
       "      <th></th>\n",
       "      <th></th>\n",
       "      <th></th>\n",
       "    </tr>\n",
       "  </thead>\n",
       "  <tbody>\n",
       "    <tr>\n",
       "      <th>2724</th>\n",
       "      <td>2.63</td>\n",
       "      <td>0.00</td>\n",
       "      <td>LJUBLJANA</td>\n",
       "      <td>5</td>\n",
       "      <td>FAJN FUUD PIZZA</td>\n",
       "      <td>Poljanska cesta 22</td>\n",
       "    </tr>\n",
       "    <tr>\n",
       "      <th>2702</th>\n",
       "      <td>2.63</td>\n",
       "      <td>0.00</td>\n",
       "      <td>MARIBOR</td>\n",
       "      <td>5</td>\n",
       "      <td>FRESH 4 LIFE VETRINJSKA</td>\n",
       "      <td>Vetrinjska ulica 9</td>\n",
       "    </tr>\n",
       "    <tr>\n",
       "      <th>2650</th>\n",
       "      <td>2.63</td>\n",
       "      <td>0.00</td>\n",
       "      <td>MARIBOR</td>\n",
       "      <td>5</td>\n",
       "      <td>GOSPOSVETSKA</td>\n",
       "      <td>Gosposvetska cesta 83</td>\n",
       "    </tr>\n",
       "    <tr>\n",
       "      <th>2347</th>\n",
       "      <td>2.63</td>\n",
       "      <td>0.00</td>\n",
       "      <td>MARIBOR</td>\n",
       "      <td>5</td>\n",
       "      <td>KAVARNA IN SENDVIČARNA FERI</td>\n",
       "      <td>Smetanova ulica 17</td>\n",
       "    </tr>\n",
       "    <tr>\n",
       "      <th>2731</th>\n",
       "      <td>2.63</td>\n",
       "      <td>0.00</td>\n",
       "      <td>LJUBLJANA</td>\n",
       "      <td>5</td>\n",
       "      <td>MAFIJA</td>\n",
       "      <td>Jadranska 21</td>\n",
       "    </tr>\n",
       "    <tr>\n",
       "      <th>1984</th>\n",
       "      <td>2.63</td>\n",
       "      <td>0.00</td>\n",
       "      <td>VELENJE</td>\n",
       "      <td>5</td>\n",
       "      <td>PEK MATJAŽ TOMŠIČEVA</td>\n",
       "      <td>Tomšičeva cesta 15</td>\n",
       "    </tr>\n",
       "    <tr>\n",
       "      <th>1335</th>\n",
       "      <td>2.63</td>\n",
       "      <td>0.00</td>\n",
       "      <td>LJUBLJANA</td>\n",
       "      <td>5</td>\n",
       "      <td>PIZZERIA ŠESTINKA</td>\n",
       "      <td>Miklošičeva cesta 22</td>\n",
       "    </tr>\n",
       "    <tr>\n",
       "      <th>...</th>\n",
       "      <td>...</td>\n",
       "      <td>...</td>\n",
       "      <td>...</td>\n",
       "      <td>...</td>\n",
       "      <td>...</td>\n",
       "      <td>...</td>\n",
       "    </tr>\n",
       "    <tr>\n",
       "      <th>1432</th>\n",
       "      <td>7.00</td>\n",
       "      <td>4.37</td>\n",
       "      <td>JESENICE</td>\n",
       "      <td>2</td>\n",
       "      <td>EJGA - RESTAVRACIJA - KAVARNA - PUB - CATERING</td>\n",
       "      <td>Cesta maršala Tita 27</td>\n",
       "    </tr>\n",
       "    <tr>\n",
       "      <th>2654</th>\n",
       "      <td>7.00</td>\n",
       "      <td>4.37</td>\n",
       "      <td>MARIBOR</td>\n",
       "      <td>2</td>\n",
       "      <td>PIZZERIA HITRI GONZALES - DOSTAVA</td>\n",
       "      <td>Na Poljanah 18</td>\n",
       "    </tr>\n",
       "    <tr>\n",
       "      <th>2814</th>\n",
       "      <td>7.00</td>\n",
       "      <td>4.37</td>\n",
       "      <td>IZOLA/ISOLA</td>\n",
       "      <td>1</td>\n",
       "      <td>GOSTILNICA GUŠT</td>\n",
       "      <td>Drevored 1.maja 5</td>\n",
       "    </tr>\n",
       "    <tr>\n",
       "      <th>2161</th>\n",
       "      <td>7.00</td>\n",
       "      <td>4.37</td>\n",
       "      <td>LJUBLJANA</td>\n",
       "      <td>0</td>\n",
       "      <td>GOSTILNA IN PICERIJA PAVON</td>\n",
       "      <td>Njegoševa 6 K</td>\n",
       "    </tr>\n",
       "    <tr>\n",
       "      <th>2845</th>\n",
       "      <td>7.00</td>\n",
       "      <td>4.37</td>\n",
       "      <td>VIPAVA</td>\n",
       "      <td>0</td>\n",
       "      <td>PICERIJA NA PLACU</td>\n",
       "      <td>Goriška cesta 13</td>\n",
       "    </tr>\n",
       "    <tr>\n",
       "      <th>2205</th>\n",
       "      <td>7.00</td>\n",
       "      <td>4.37</td>\n",
       "      <td>IZOLA/ISOLA</td>\n",
       "      <td>0</td>\n",
       "      <td>PRIMAVERA IZOLA-DOSTAVA</td>\n",
       "      <td>Prešernova cesta 55</td>\n",
       "    </tr>\n",
       "    <tr>\n",
       "      <th>2882</th>\n",
       "      <td>7.00</td>\n",
       "      <td>4.37</td>\n",
       "      <td>LJUBLJANA</td>\n",
       "      <td>0</td>\n",
       "      <td>UTRIP - BAR, BISTRO IN KAVARNA</td>\n",
       "      <td>Šmartinska cesta 3</td>\n",
       "    </tr>\n",
       "  </tbody>\n",
       "</table>\n",
       "<p>490 rows × 6 columns</p>\n",
       "</div>"
      ],
      "text/plain": [
       "      cena  doplacilo        mesto  ocena                             ime  \\\n",
       "id                                                                          \n",
       "2724  2.63       0.00    LJUBLJANA      5                 FAJN FUUD PIZZA   \n",
       "2702  2.63       0.00      MARIBOR      5         FRESH 4 LIFE VETRINJSKA   \n",
       "2650  2.63       0.00      MARIBOR      5                    GOSPOSVETSKA   \n",
       "2347  2.63       0.00      MARIBOR      5     KAVARNA IN SENDVIČARNA FERI   \n",
       "2731  2.63       0.00    LJUBLJANA      5                          MAFIJA   \n",
       "...    ...        ...          ...    ...                             ...   \n",
       "2814  7.00       4.37  IZOLA/ISOLA      1                 GOSTILNICA GUŠT   \n",
       "2161  7.00       4.37    LJUBLJANA      0      GOSTILNA IN PICERIJA PAVON   \n",
       "2845  7.00       4.37       VIPAVA      0               PICERIJA NA PLACU   \n",
       "2205  7.00       4.37  IZOLA/ISOLA      0         PRIMAVERA IZOLA-DOSTAVA   \n",
       "2882  7.00       4.37    LJUBLJANA      0  UTRIP - BAR, BISTRO IN KAVARNA   \n",
       "\n",
       "                     naslov  \n",
       "id                           \n",
       "2724     Poljanska cesta 22  \n",
       "2702     Vetrinjska ulica 9  \n",
       "2650  Gosposvetska cesta 83  \n",
       "2347     Smetanova ulica 17  \n",
       "2731           Jadranska 21  \n",
       "...                     ...  \n",
       "2814      Drevored 1.maja 5  \n",
       "2161          Njegoševa 6 K  \n",
       "2845       Goriška cesta 13  \n",
       "2205   Prešernova cesta 55   \n",
       "2882     Šmartinska cesta 3  \n",
       "\n",
       "[490 rows x 6 columns]"
      ]
     },
     "execution_count": 258,
     "metadata": {},
     "output_type": "execute_result"
    }
   ],
   "source": [
    "lokali.sort_values(['doplacilo', 'ocena'], ascending=[True, False])"
   ]
  },
  {
   "cell_type": "code",
   "execution_count": 133,
   "metadata": {},
   "outputs": [
    {
     "data": {
      "text/plain": [
       "490"
      ]
     },
     "execution_count": 133,
     "metadata": {},
     "output_type": "execute_result"
    }
   ],
   "source": [
    "len(lokali)"
   ]
  },
  {
   "cell_type": "markdown",
   "metadata": {},
   "source": [
    "Vseh lokalov študentske prhrane v Sloveniji je 490. Za statistično analizo nekaterih podatkov iz zgornje tabele zajetih podatkov ne bomo potrebovali. Eden od podatkov o ceni in doplačilu je odveč, saj je razlika med njima vedno 2.63 €, kolikor znaša subvencija. Obdelovali bomo doplačilo, saj je le-to za študente bolj pomembno. Ne bomo delali z imeni lokalov, ampak jih bomo identificirali po njihovih id številkah. Pri obravnavi lokacije lokalov pa bomo zanemarili točen naslov in se zadovoljili s podatkom o mestu, v katerem leži."
   ]
  },
  {
   "cell_type": "markdown",
   "metadata": {},
   "source": [
    "## Geografska porazdelitev lokalov"
   ]
  },
  {
   "cell_type": "code",
   "execution_count": 248,
   "metadata": {},
   "outputs": [
    {
     "data": {
      "text/plain": [
       "mesto\n",
       "LJUBLJANA            227\n",
       "MARIBOR               89\n",
       "KOPER/CAPODISTRIA     23\n",
       "KRANJ                 18\n",
       "NOVO MESTO            15\n",
       "                    ... \n",
       "POSTOJNA               1\n",
       "TRZIN                  1\n",
       "NAKLO                  1\n",
       "ROGAŠKA SLATINA        1\n",
       "KAMNIK                 1\n",
       "Length: 36, dtype: int64"
      ]
     },
     "execution_count": 248,
     "metadata": {},
     "output_type": "execute_result"
    }
   ],
   "source": [
    "lokali.groupby('mesto').size().sort_values(ascending=False)"
   ]
  },
  {
   "cell_type": "code",
   "execution_count": 137,
   "metadata": {},
   "outputs": [
    {
     "data": {
      "text/plain": [
       "<matplotlib.axes._subplots.AxesSubplot at 0x1c517227668>"
      ]
     },
     "execution_count": 137,
     "metadata": {},
     "output_type": "execute_result"
    },
    {
     "data": {
      "image/png": "[encoded data removed]",
      "text/plain": [
       "<Figure size 432x288 with 1 Axes>"
      ]
     },
     "metadata": {
      "needs_background": "light"
     },
     "output_type": "display_data"
    }
   ],
   "source": [
    "lokali.groupby('mesto').size().sort_values(ascending=False).plot.bar()"
   ]
  },
  {
   "cell_type": "markdown",
   "metadata": {},
   "source": [
    "Opazno je, da je v Ljubljani daleč največ lokalov, več kot 10 jih je še v Mariboru, Kopru, Kranju, Novem mestu in Celju. Preostalih 30 mest pa združimo v skupino ostala mesta. "
   ]
  },
  {
   "cell_type": "code",
   "execution_count": 266,
   "metadata": {
    "scrolled": true
   },
   "outputs": [
    {
     "ename": "SyntaxError",
     "evalue": "invalid syntax (<ipython-input-266-1892bbf80374>, line 2)",
     "output_type": "error",
     "traceback": [
      "\u001b[1;36m  File \u001b[1;32m\"<ipython-input-266-1892bbf80374>\"\u001b[1;36m, line \u001b[1;32m2\u001b[0m\n\u001b[1;33m    if mesto == 'LJUBLJANA'\u001b[0m\n\u001b[1;37m                            ^\u001b[0m\n\u001b[1;31mSyntaxError\u001b[0m\u001b[1;31m:\u001b[0m invalid syntax\n"
     ]
    }
   ],
   "source": [
    "def kraj(mesto):\n",
    "    if mesto == 'LJUBLJANA' \n",
    "        return mesto\n",
    "    else: \n",
    "        return 'OSTALA MESTA'"
   ]
  },
  {
   "cell_type": "code",
   "execution_count": 256,
   "metadata": {},
   "outputs": [
    {
     "data": {
      "text/html": [
       "<div>\n",
       "<style scoped>\n",
       "    .dataframe tbody tr th:only-of-type {\n",
       "        vertical-align: middle;\n",
       "    }\n",
       "\n",
       "    .dataframe tbody tr th {\n",
       "        vertical-align: top;\n",
       "    }\n",
       "\n",
       "    .dataframe thead th {\n",
       "        text-align: right;\n",
       "    }\n",
       "</style>\n",
       "<table border=\"1\" class=\"dataframe\">\n",
       "  <thead>\n",
       "    <tr style=\"text-align: right;\">\n",
       "      <th></th>\n",
       "      <th>cena</th>\n",
       "      <th>doplacilo</th>\n",
       "      <th>mesto</th>\n",
       "      <th>ocena</th>\n",
       "      <th>ime</th>\n",
       "      <th>naslov</th>\n",
       "    </tr>\n",
       "    <tr>\n",
       "      <th>id</th>\n",
       "      <th></th>\n",
       "      <th></th>\n",
       "      <th></th>\n",
       "      <th></th>\n",
       "      <th></th>\n",
       "      <th></th>\n",
       "    </tr>\n",
       "  </thead>\n",
       "  <tbody>\n",
       "  </tbody>\n",
       "</table>\n",
       "</div>"
      ],
      "text/plain": [
       "Empty DataFrame\n",
       "Columns: [cena, doplacilo, mesto, ocena, ime, naslov]\n",
       "Index: []"
      ]
     },
     "execution_count": 256,
     "metadata": {},
     "output_type": "execute_result"
    }
   ],
   "source": [
    "lokali[(lokali.mesto == 'LJUBLJANA') & (lokali.mesto == 'MARIBOR')]"
   ]
  },
  {
   "cell_type": "code",
   "execution_count": 141,
   "metadata": {},
   "outputs": [
    {
     "ename": "TypeError",
     "evalue": "'Series' objects are mutable, thus they cannot be hashed",
     "output_type": "error",
     "traceback": [
      "\u001b[1;31m---------------------------------------------------------------------------\u001b[0m",
      "\u001b[1;31mTypeError\u001b[0m                                 Traceback (most recent call last)",
      "\u001b[1;32m<ipython-input-141-0453b400ff57>\u001b[0m in \u001b[0;36m<module>\u001b[1;34m\u001b[0m\n\u001b[1;32m----> 1\u001b[1;33m \u001b[0mlokali\u001b[0m\u001b[1;33m[\u001b[0m\u001b[1;34m'kraj'\u001b[0m\u001b[1;33m]\u001b[0m \u001b[1;33m=\u001b[0m \u001b[0mkraj\u001b[0m\u001b[1;33m(\u001b[0m\u001b[0mlokali\u001b[0m\u001b[1;33m.\u001b[0m\u001b[0mmesto\u001b[0m\u001b[1;33m)\u001b[0m\u001b[1;33m\u001b[0m\u001b[0m\n\u001b[0m",
      "\u001b[1;32m<ipython-input-81-a5e68061f2dd>\u001b[0m in \u001b[0;36mkraj\u001b[1;34m(mesto)\u001b[0m\n\u001b[0;32m      1\u001b[0m \u001b[1;32mdef\u001b[0m \u001b[0mkraj\u001b[0m\u001b[1;33m(\u001b[0m\u001b[0mmesto\u001b[0m\u001b[1;33m)\u001b[0m\u001b[1;33m:\u001b[0m\u001b[1;33m\u001b[0m\u001b[0m\n\u001b[1;32m----> 2\u001b[1;33m     \u001b[1;32mif\u001b[0m \u001b[0mmesto\u001b[0m \u001b[1;32min\u001b[0m \u001b[1;33m{\u001b[0m\u001b[1;34m'LJUBLJANA'\u001b[0m\u001b[1;33m,\u001b[0m \u001b[1;34m'MARIBOR'\u001b[0m\u001b[1;33m,\u001b[0m \u001b[1;34m'KOPER/CAPODISTRIA'\u001b[0m\u001b[1;33m,\u001b[0m \u001b[1;34m'KRANJ'\u001b[0m\u001b[1;33m,\u001b[0m \u001b[1;34m'NOVO MESTO'\u001b[0m\u001b[1;33m,\u001b[0m \u001b[1;34m'CELJE'\u001b[0m\u001b[1;33m,\u001b[0m\u001b[1;33m}\u001b[0m\u001b[1;33m:\u001b[0m\u001b[1;33m\u001b[0m\u001b[0m\n\u001b[0m\u001b[0;32m      3\u001b[0m         \u001b[1;32mreturn\u001b[0m \u001b[0mmesto\u001b[0m\u001b[1;33m\u001b[0m\u001b[0m\n\u001b[0;32m      4\u001b[0m     \u001b[1;32melse\u001b[0m\u001b[1;33m:\u001b[0m\u001b[1;33m\u001b[0m\u001b[0m\n\u001b[0;32m      5\u001b[0m         \u001b[1;32mreturn\u001b[0m \u001b[1;34m'OSTALA MESTA'\u001b[0m\u001b[1;33m\u001b[0m\u001b[0m\n",
      "\u001b[1;32mc:\\users\\lucija\\appdata\\local\\programs\\python\\python36\\lib\\site-packages\\pandas\\core\\generic.py\u001b[0m in \u001b[0;36m__hash__\u001b[1;34m(self)\u001b[0m\n\u001b[0;32m   1885\u001b[0m         raise TypeError(\n\u001b[0;32m   1886\u001b[0m             \u001b[1;34m\"{0!r} objects are mutable, thus they cannot be\"\u001b[0m\u001b[1;33m\u001b[0m\u001b[0m\n\u001b[1;32m-> 1887\u001b[1;33m             \u001b[1;34m\" hashed\"\u001b[0m\u001b[1;33m.\u001b[0m\u001b[0mformat\u001b[0m\u001b[1;33m(\u001b[0m\u001b[0mself\u001b[0m\u001b[1;33m.\u001b[0m\u001b[0m__class__\u001b[0m\u001b[1;33m.\u001b[0m\u001b[0m__name__\u001b[0m\u001b[1;33m)\u001b[0m\u001b[1;33m\u001b[0m\u001b[0m\n\u001b[0m\u001b[0;32m   1888\u001b[0m         )\n\u001b[0;32m   1889\u001b[0m \u001b[1;33m\u001b[0m\u001b[0m\n",
      "\u001b[1;31mTypeError\u001b[0m: 'Series' objects are mutable, thus they cannot be hashed"
     ]
    }
   ],
   "source": [
    "lokali['kraj'] = kraj(lokali.mesto)"
   ]
  },
  {
   "cell_type": "code",
   "execution_count": 111,
   "metadata": {},
   "outputs": [
    {
     "data": {
      "text/html": [
       "<div>\n",
       "<style scoped>\n",
       "    .dataframe tbody tr th:only-of-type {\n",
       "        vertical-align: middle;\n",
       "    }\n",
       "\n",
       "    .dataframe tbody tr th {\n",
       "        vertical-align: top;\n",
       "    }\n",
       "\n",
       "    .dataframe thead th {\n",
       "        text-align: right;\n",
       "    }\n",
       "</style>\n",
       "<table border=\"1\" class=\"dataframe\">\n",
       "  <thead>\n",
       "    <tr style=\"text-align: right;\">\n",
       "      <th></th>\n",
       "      <th>cena</th>\n",
       "      <th>doplacilo</th>\n",
       "      <th>mesto</th>\n",
       "      <th>ocena</th>\n",
       "      <th>ime</th>\n",
       "      <th>naslov</th>\n",
       "      <th>cenovni_razred</th>\n",
       "      <th>kraj</th>\n",
       "    </tr>\n",
       "    <tr>\n",
       "      <th>id</th>\n",
       "      <th></th>\n",
       "      <th></th>\n",
       "      <th></th>\n",
       "      <th></th>\n",
       "      <th></th>\n",
       "      <th></th>\n",
       "      <th></th>\n",
       "      <th></th>\n",
       "    </tr>\n",
       "  </thead>\n",
       "  <tbody>\n",
       "    <tr>\n",
       "      <th>2605</th>\n",
       "      <td>5.50</td>\n",
       "      <td>2.87</td>\n",
       "      <td>LJUBLJANA</td>\n",
       "      <td>4</td>\n",
       "      <td>&amp;quot;SOLE&amp;quot; OKREPČEVALNICA, PIZZERIJA, SL...</td>\n",
       "      <td>Kolodvorska ulica 18</td>\n",
       "      <td>3.0</td>\n",
       "      <td>LJUBLJANA</td>\n",
       "    </tr>\n",
       "    <tr>\n",
       "      <th>1478</th>\n",
       "      <td>6.53</td>\n",
       "      <td>3.90</td>\n",
       "      <td>LJUBLJANA</td>\n",
       "      <td>4</td>\n",
       "      <td>ABI FALAFEL</td>\n",
       "      <td>Trubarjeva cesta 40</td>\n",
       "      <td>4.0</td>\n",
       "      <td>LJUBLJANA</td>\n",
       "    </tr>\n",
       "    <tr>\n",
       "      <th>2751</th>\n",
       "      <td>3.63</td>\n",
       "      <td>1.00</td>\n",
       "      <td>LJUBLJANA</td>\n",
       "      <td>4</td>\n",
       "      <td>AGA KEBAPČI</td>\n",
       "      <td>Trubarjeva 47</td>\n",
       "      <td>1.0</td>\n",
       "      <td>LJUBLJANA</td>\n",
       "    </tr>\n",
       "    <tr>\n",
       "      <th>1772</th>\n",
       "      <td>5.33</td>\n",
       "      <td>2.70</td>\n",
       "      <td>LJUBLJANA</td>\n",
       "      <td>4</td>\n",
       "      <td>AMBIENT</td>\n",
       "      <td>Topniška 29a</td>\n",
       "      <td>3.0</td>\n",
       "      <td>LJUBLJANA</td>\n",
       "    </tr>\n",
       "    <tr>\n",
       "      <th>1865</th>\n",
       "      <td>6.00</td>\n",
       "      <td>3.37</td>\n",
       "      <td>LJUBLJANA</td>\n",
       "      <td>0</td>\n",
       "      <td>ANTARO</td>\n",
       "      <td>Leskoškova 9e</td>\n",
       "      <td>3.5</td>\n",
       "      <td>LJUBLJANA</td>\n",
       "    </tr>\n",
       "    <tr>\n",
       "      <th>...</th>\n",
       "      <td>...</td>\n",
       "      <td>...</td>\n",
       "      <td>...</td>\n",
       "      <td>...</td>\n",
       "      <td>...</td>\n",
       "      <td>...</td>\n",
       "      <td>...</td>\n",
       "      <td>...</td>\n",
       "    </tr>\n",
       "    <tr>\n",
       "      <th>2773</th>\n",
       "      <td>6.63</td>\n",
       "      <td>4.00</td>\n",
       "      <td>DOMŽALE</td>\n",
       "      <td>5</td>\n",
       "      <td>ZLATI KROŽNIK - DOSTAVA</td>\n",
       "      <td>Ljubljanska cesta 89</td>\n",
       "      <td>4.0</td>\n",
       "      <td>DOMŽALE</td>\n",
       "    </tr>\n",
       "    <tr>\n",
       "      <th>2535</th>\n",
       "      <td>3.23</td>\n",
       "      <td>0.60</td>\n",
       "      <td>LJUBLJANA</td>\n",
       "      <td>5</td>\n",
       "      <td>ŽITO LJUBLANA ŽELEZNIŠKA (KOLODVOR)</td>\n",
       "      <td>Trg OF 7</td>\n",
       "      <td>1.0</td>\n",
       "      <td>LJUBLJANA</td>\n",
       "    </tr>\n",
       "    <tr>\n",
       "      <th>2771</th>\n",
       "      <td>3.23</td>\n",
       "      <td>0.60</td>\n",
       "      <td>LJUBLJANA</td>\n",
       "      <td>4</td>\n",
       "      <td>ŽITO LJUBLJANA BAVARSKI DVOR</td>\n",
       "      <td>Slovenska cesta 58</td>\n",
       "      <td>1.0</td>\n",
       "      <td>LJUBLJANA</td>\n",
       "    </tr>\n",
       "    <tr>\n",
       "      <th>1791</th>\n",
       "      <td>3.23</td>\n",
       "      <td>0.60</td>\n",
       "      <td>LJUBLJANA</td>\n",
       "      <td>4</td>\n",
       "      <td>ŽITO LJUBLJANA VODNIK</td>\n",
       "      <td>Vodnikov trg 5</td>\n",
       "      <td>1.0</td>\n",
       "      <td>LJUBLJANA</td>\n",
       "    </tr>\n",
       "    <tr>\n",
       "      <th>2009</th>\n",
       "      <td>3.23</td>\n",
       "      <td>0.60</td>\n",
       "      <td>KOPER/CAPODISTRIA</td>\n",
       "      <td>2</td>\n",
       "      <td>ŽITO TRŽNICA KOPER</td>\n",
       "      <td>Pristaniška ulica 2</td>\n",
       "      <td>1.0</td>\n",
       "      <td>KOPER/CAPODISTRIA</td>\n",
       "    </tr>\n",
       "  </tbody>\n",
       "</table>\n",
       "<p>490 rows × 8 columns</p>\n",
       "</div>"
      ],
      "text/plain": [
       "      cena  doplacilo              mesto  ocena  \\\n",
       "id                                                \n",
       "2605  5.50       2.87          LJUBLJANA      4   \n",
       "1478  6.53       3.90          LJUBLJANA      4   \n",
       "2751  3.63       1.00          LJUBLJANA      4   \n",
       "1772  5.33       2.70          LJUBLJANA      4   \n",
       "1865  6.00       3.37          LJUBLJANA      0   \n",
       "...    ...        ...                ...    ...   \n",
       "2773  6.63       4.00            DOMŽALE      5   \n",
       "2535  3.23       0.60          LJUBLJANA      5   \n",
       "2771  3.23       0.60          LJUBLJANA      4   \n",
       "1791  3.23       0.60          LJUBLJANA      4   \n",
       "2009  3.23       0.60  KOPER/CAPODISTRIA      2   \n",
       "\n",
       "                                                    ime                naslov  \\\n",
       "id                                                                              \n",
       "2605  &quot;SOLE&quot; OKREPČEVALNICA, PIZZERIJA, SL...  Kolodvorska ulica 18   \n",
       "1478                                        ABI FALAFEL   Trubarjeva cesta 40   \n",
       "2751                                        AGA KEBAPČI         Trubarjeva 47   \n",
       "1772                                            AMBIENT          Topniška 29a   \n",
       "1865                                             ANTARO         Leskoškova 9e   \n",
       "...                                                 ...                   ...   \n",
       "2773                            ZLATI KROŽNIK - DOSTAVA  Ljubljanska cesta 89   \n",
       "2535                ŽITO LJUBLANA ŽELEZNIŠKA (KOLODVOR)              Trg OF 7   \n",
       "2771                       ŽITO LJUBLJANA BAVARSKI DVOR    Slovenska cesta 58   \n",
       "1791                              ŽITO LJUBLJANA VODNIK        Vodnikov trg 5   \n",
       "2009                                 ŽITO TRŽNICA KOPER   Pristaniška ulica 2   \n",
       "\n",
       "      cenovni_razred               kraj  \n",
       "id                                       \n",
       "2605             3.0          LJUBLJANA  \n",
       "1478             4.0          LJUBLJANA  \n",
       "2751             1.0          LJUBLJANA  \n",
       "1772             3.0          LJUBLJANA  \n",
       "1865             3.5          LJUBLJANA  \n",
       "...              ...                ...  \n",
       "2773             4.0            DOMŽALE  \n",
       "2535             1.0          LJUBLJANA  \n",
       "2771             1.0          LJUBLJANA  \n",
       "1791             1.0          LJUBLJANA  \n",
       "2009             1.0  KOPER/CAPODISTRIA  \n",
       "\n",
       "[490 rows x 8 columns]"
      ]
     },
     "execution_count": 111,
     "metadata": {},
     "output_type": "execute_result"
    }
   ],
   "source": [
    "lokali_vsi_podatki"
   ]
  },
  {
   "cell_type": "code",
   "execution_count": 116,
   "metadata": {},
   "outputs": [
    {
     "data": {
      "text/html": [
       "<div>\n",
       "<style scoped>\n",
       "    .dataframe tbody tr th:only-of-type {\n",
       "        vertical-align: middle;\n",
       "    }\n",
       "\n",
       "    .dataframe tbody tr th {\n",
       "        vertical-align: top;\n",
       "    }\n",
       "\n",
       "    .dataframe thead th {\n",
       "        text-align: right;\n",
       "    }\n",
       "</style>\n",
       "<table border=\"1\" class=\"dataframe\">\n",
       "  <thead>\n",
       "    <tr style=\"text-align: right;\">\n",
       "      <th></th>\n",
       "      <th>doplacilo</th>\n",
       "      <th>ocena</th>\n",
       "      <th>cenovni_razred</th>\n",
       "    </tr>\n",
       "    <tr>\n",
       "      <th>mesto</th>\n",
       "      <th></th>\n",
       "      <th></th>\n",
       "      <th></th>\n",
       "    </tr>\n",
       "  </thead>\n",
       "  <tbody>\n",
       "    <tr>\n",
       "      <th>AJDOVŠČINA</th>\n",
       "      <td>3.370000</td>\n",
       "      <td>0.000000</td>\n",
       "      <td>3.000000</td>\n",
       "    </tr>\n",
       "    <tr>\n",
       "      <th>BLED</th>\n",
       "      <td>3.780000</td>\n",
       "      <td>2.333333</td>\n",
       "      <td>3.500000</td>\n",
       "    </tr>\n",
       "    <tr>\n",
       "      <th>BREŽICE</th>\n",
       "      <td>2.970000</td>\n",
       "      <td>0.000000</td>\n",
       "      <td>2.500000</td>\n",
       "    </tr>\n",
       "    <tr>\n",
       "      <th>CELJE</th>\n",
       "      <td>2.955333</td>\n",
       "      <td>4.266667</td>\n",
       "      <td>2.666667</td>\n",
       "    </tr>\n",
       "    <tr>\n",
       "      <th>DOMŽALE</th>\n",
       "      <td>3.250000</td>\n",
       "      <td>4.142857</td>\n",
       "      <td>3.071429</td>\n",
       "    </tr>\n",
       "    <tr>\n",
       "      <th>...</th>\n",
       "      <td>...</td>\n",
       "      <td>...</td>\n",
       "      <td>...</td>\n",
       "    </tr>\n",
       "    <tr>\n",
       "      <th>VIPAVA</th>\n",
       "      <td>4.370000</td>\n",
       "      <td>0.000000</td>\n",
       "      <td>4.000000</td>\n",
       "    </tr>\n",
       "    <tr>\n",
       "      <th>ZAGORJE OB SAVI</th>\n",
       "      <td>3.470000</td>\n",
       "      <td>2.666667</td>\n",
       "      <td>3.166667</td>\n",
       "    </tr>\n",
       "    <tr>\n",
       "      <th>ŠENTJUR</th>\n",
       "      <td>0.870000</td>\n",
       "      <td>0.000000</td>\n",
       "      <td>0.500000</td>\n",
       "    </tr>\n",
       "    <tr>\n",
       "      <th>ŠKOFJA LOKA</th>\n",
       "      <td>2.666667</td>\n",
       "      <td>2.000000</td>\n",
       "      <td>2.500000</td>\n",
       "    </tr>\n",
       "    <tr>\n",
       "      <th>ŽALEC</th>\n",
       "      <td>3.603333</td>\n",
       "      <td>1.333333</td>\n",
       "      <td>3.333333</td>\n",
       "    </tr>\n",
       "  </tbody>\n",
       "</table>\n",
       "<p>36 rows × 3 columns</p>\n",
       "</div>"
      ],
      "text/plain": [
       "                 doplacilo     ocena  cenovni_razred\n",
       "mesto                                               \n",
       "AJDOVŠČINA        3.370000  0.000000        3.000000\n",
       "BLED              3.780000  2.333333        3.500000\n",
       "BREŽICE           2.970000  0.000000        2.500000\n",
       "CELJE             2.955333  4.266667        2.666667\n",
       "DOMŽALE           3.250000  4.142857        3.071429\n",
       "...                    ...       ...             ...\n",
       "VIPAVA            4.370000  0.000000        4.000000\n",
       "ZAGORJE OB SAVI   3.470000  2.666667        3.166667\n",
       "ŠENTJUR           0.870000  0.000000        0.500000\n",
       "ŠKOFJA LOKA       2.666667  2.000000        2.500000\n",
       "ŽALEC             3.603333  1.333333        3.333333\n",
       "\n",
       "[36 rows x 3 columns]"
      ]
     },
     "execution_count": 116,
     "metadata": {},
     "output_type": "execute_result"
    }
   ],
   "source": [
    "lokali.groupby('mesto').mean()"
   ]
  },
  {
   "cell_type": "code",
   "execution_count": 119,
   "metadata": {},
   "outputs": [
    {
     "data": {
      "text/plain": [
       "<matplotlib.axes._subplots.AxesSubplot at 0x1c516d56da0>"
      ]
     },
     "execution_count": 119,
     "metadata": {},
     "output_type": "execute_result"
    },
    {
     "data": {
      "image/png": "[encoded data removed]",
      "text/plain": [
       "<Figure size 432x288 with 1 Axes>"
      ]
     },
     "metadata": {
      "needs_background": "light"
     },
     "output_type": "display_data"
    }
   ],
   "source": [
    "lokali.groupby('mesto').mean().doplacilo.sort_values(ascending=False).plot.bar(x='mesto', y='doplacilo')"
   ]
  },
  {
   "cell_type": "code",
   "execution_count": 120,
   "metadata": {},
   "outputs": [
    {
     "data": {
      "text/plain": [
       "<matplotlib.axes._subplots.AxesSubplot at 0x1c51707d2e8>"
      ]
     },
     "execution_count": 120,
     "metadata": {},
     "output_type": "execute_result"
    },
    {
     "data": {
      "image/png": "[encoded data removed]",
      "text/plain": [
       "<Figure size 432x288 with 1 Axes>"
      ]
     },
     "metadata": {
      "needs_background": "light"
     },
     "output_type": "display_data"
    }
   ],
   "source": [
    "lokali.groupby('mesto').mean().ocena.sort_values(ascending=False).plot.bar(x='mesto', y='ocena')"
   ]
  },
  {
   "cell_type": "code",
   "execution_count": 122,
   "metadata": {},
   "outputs": [],
   "source": [
    "lokali_po_velikih_mestih = po_mestih[po_mestih > 10]"
   ]
  },
  {
   "cell_type": "code",
   "execution_count": 123,
   "metadata": {},
   "outputs": [
    {
     "data": {
      "text/plain": [
       "mesto\n",
       "CELJE                 15\n",
       "KOPER/CAPODISTRIA     23\n",
       "KRANJ                 18\n",
       "LJUBLJANA            227\n",
       "MARIBOR               89\n",
       "NOVO MESTO            15\n",
       "dtype: int64"
      ]
     },
     "execution_count": 123,
     "metadata": {},
     "output_type": "execute_result"
    }
   ],
   "source": [
    "lokali_po_velikih_mestih"
   ]
  },
  {
   "cell_type": "code",
   "execution_count": 63,
   "metadata": {},
   "outputs": [
    {
     "ename": "AttributeError",
     "evalue": "'Series' object has no attribute 'cena'",
     "output_type": "error",
     "traceback": [
      "\u001b[1;31m---------------------------------------------------------------------------\u001b[0m",
      "\u001b[1;31mAttributeError\u001b[0m                            Traceback (most recent call last)",
      "\u001b[1;32m<ipython-input-63-f5c0bb887d34>\u001b[0m in \u001b[0;36m<module>\u001b[1;34m\u001b[0m\n\u001b[1;32m----> 1\u001b[1;33m \u001b[0mlokali_po_velikih_mestih\u001b[0m\u001b[1;33m.\u001b[0m\u001b[0mcena\u001b[0m\u001b[1;33m.\u001b[0m\u001b[0mmean\u001b[0m\u001b[1;33m(\u001b[0m\u001b[1;33m)\u001b[0m\u001b[1;33m.\u001b[0m\u001b[0msort_values\u001b[0m\u001b[1;33m(\u001b[0m\u001b[1;33m)\u001b[0m\u001b[1;33m\u001b[0m\u001b[0m\n\u001b[0m",
      "\u001b[1;32mc:\\users\\lucija\\appdata\\local\\programs\\python\\python36\\lib\\site-packages\\pandas\\core\\generic.py\u001b[0m in \u001b[0;36m__getattr__\u001b[1;34m(self, name)\u001b[0m\n\u001b[0;32m   5178\u001b[0m             \u001b[1;32mif\u001b[0m \u001b[0mself\u001b[0m\u001b[1;33m.\u001b[0m\u001b[0m_info_axis\u001b[0m\u001b[1;33m.\u001b[0m\u001b[0m_can_hold_identifiers_and_holds_name\u001b[0m\u001b[1;33m(\u001b[0m\u001b[0mname\u001b[0m\u001b[1;33m)\u001b[0m\u001b[1;33m:\u001b[0m\u001b[1;33m\u001b[0m\u001b[0m\n\u001b[0;32m   5179\u001b[0m                 \u001b[1;32mreturn\u001b[0m \u001b[0mself\u001b[0m\u001b[1;33m[\u001b[0m\u001b[0mname\u001b[0m\u001b[1;33m]\u001b[0m\u001b[1;33m\u001b[0m\u001b[0m\n\u001b[1;32m-> 5180\u001b[1;33m             \u001b[1;32mreturn\u001b[0m \u001b[0mobject\u001b[0m\u001b[1;33m.\u001b[0m\u001b[0m__getattribute__\u001b[0m\u001b[1;33m(\u001b[0m\u001b[0mself\u001b[0m\u001b[1;33m,\u001b[0m \u001b[0mname\u001b[0m\u001b[1;33m)\u001b[0m\u001b[1;33m\u001b[0m\u001b[0m\n\u001b[0m\u001b[0;32m   5181\u001b[0m \u001b[1;33m\u001b[0m\u001b[0m\n\u001b[0;32m   5182\u001b[0m     \u001b[1;32mdef\u001b[0m \u001b[0m__setattr__\u001b[0m\u001b[1;33m(\u001b[0m\u001b[0mself\u001b[0m\u001b[1;33m,\u001b[0m \u001b[0mname\u001b[0m\u001b[1;33m,\u001b[0m \u001b[0mvalue\u001b[0m\u001b[1;33m)\u001b[0m\u001b[1;33m:\u001b[0m\u001b[1;33m\u001b[0m\u001b[0m\n",
      "\u001b[1;31mAttributeError\u001b[0m: 'Series' object has no attribute 'cena'"
     ]
    }
   ],
   "source": [
    "lokali_po_velikih_mestih.cena.mean().sort_values()"
   ]
  },
  {
   "cell_type": "code",
   "execution_count": 34,
   "metadata": {},
   "outputs": [
    {
     "data": {
      "text/plain": [
       "mesto\n",
       "ŠENTJUR              3.500000\n",
       "SLOVENSKE KONJICE    3.630000\n",
       "POSTOJNA             4.600000\n",
       "HOČE                 4.630000\n",
       "PTUJ                 5.098571\n",
       "                       ...   \n",
       "TRZIN                6.400000\n",
       "BLED                 6.410000\n",
       "KAMNIK               6.430000\n",
       "ROGAŠKA SLATINA      6.630000\n",
       "VIPAVA               7.000000\n",
       "Name: cena, Length: 36, dtype: float64"
      ]
     },
     "execution_count": 34,
     "metadata": {},
     "output_type": "execute_result"
    }
   ],
   "source": [
    "lokali_po_mestih.cena.mean().sort_values()"
   ]
  },
  {
   "cell_type": "code",
   "execution_count": 39,
   "metadata": {},
   "outputs": [
    {
     "ename": "ValueError",
     "evalue": "plot kind scatter can only be used for data frames",
     "output_type": "error",
     "traceback": [
      "\u001b[1;31m---------------------------------------------------------------------------\u001b[0m",
      "\u001b[1;31mValueError\u001b[0m                                Traceback (most recent call last)",
      "\u001b[1;32m<ipython-input-39-9716384de2d1>\u001b[0m in \u001b[0;36m<module>\u001b[1;34m\u001b[0m\n\u001b[1;32m----> 1\u001b[1;33m \u001b[0mlokali_po_mestih\u001b[0m\u001b[1;33m.\u001b[0m\u001b[0mcena\u001b[0m\u001b[1;33m.\u001b[0m\u001b[0mmean\u001b[0m\u001b[1;33m(\u001b[0m\u001b[1;33m)\u001b[0m\u001b[1;33m.\u001b[0m\u001b[0msort_values\u001b[0m\u001b[1;33m(\u001b[0m\u001b[1;33m)\u001b[0m\u001b[1;33m.\u001b[0m\u001b[0mplot\u001b[0m\u001b[1;33m.\u001b[0m\u001b[0mscatter\u001b[0m\u001b[1;33m(\u001b[0m\u001b[1;34m'mesto'\u001b[0m\u001b[1;33m,\u001b[0m \u001b[1;34m'povprecna_cena'\u001b[0m\u001b[1;33m)\u001b[0m\u001b[1;33m\u001b[0m\u001b[0m\n\u001b[0m",
      "\u001b[1;32mc:\\users\\lucija\\appdata\\local\\programs\\python\\python36\\lib\\site-packages\\pandas\\plotting\\_core.py\u001b[0m in \u001b[0;36mscatter\u001b[1;34m(self, x, y, s, c, **kwargs)\u001b[0m\n\u001b[0;32m   1442\u001b[0m             ...                       colormap='viridis')\n\u001b[0;32m   1443\u001b[0m         \"\"\"\n\u001b[1;32m-> 1444\u001b[1;33m         \u001b[1;32mreturn\u001b[0m \u001b[0mself\u001b[0m\u001b[1;33m(\u001b[0m\u001b[0mkind\u001b[0m\u001b[1;33m=\u001b[0m\u001b[1;34m\"scatter\"\u001b[0m\u001b[1;33m,\u001b[0m \u001b[0mx\u001b[0m\u001b[1;33m=\u001b[0m\u001b[0mx\u001b[0m\u001b[1;33m,\u001b[0m \u001b[0my\u001b[0m\u001b[1;33m=\u001b[0m\u001b[0my\u001b[0m\u001b[1;33m,\u001b[0m \u001b[0ms\u001b[0m\u001b[1;33m=\u001b[0m\u001b[0ms\u001b[0m\u001b[1;33m,\u001b[0m \u001b[0mc\u001b[0m\u001b[1;33m=\u001b[0m\u001b[0mc\u001b[0m\u001b[1;33m,\u001b[0m \u001b[1;33m**\u001b[0m\u001b[0mkwargs\u001b[0m\u001b[1;33m)\u001b[0m\u001b[1;33m\u001b[0m\u001b[0m\n\u001b[0m\u001b[0;32m   1445\u001b[0m \u001b[1;33m\u001b[0m\u001b[0m\n\u001b[0;32m   1446\u001b[0m     \u001b[1;32mdef\u001b[0m \u001b[0mhexbin\u001b[0m\u001b[1;33m(\u001b[0m\u001b[0mself\u001b[0m\u001b[1;33m,\u001b[0m \u001b[0mx\u001b[0m\u001b[1;33m,\u001b[0m \u001b[0my\u001b[0m\u001b[1;33m,\u001b[0m \u001b[0mC\u001b[0m\u001b[1;33m=\u001b[0m\u001b[1;32mNone\u001b[0m\u001b[1;33m,\u001b[0m \u001b[0mreduce_C_function\u001b[0m\u001b[1;33m=\u001b[0m\u001b[1;32mNone\u001b[0m\u001b[1;33m,\u001b[0m \u001b[0mgridsize\u001b[0m\u001b[1;33m=\u001b[0m\u001b[1;32mNone\u001b[0m\u001b[1;33m,\u001b[0m \u001b[1;33m**\u001b[0m\u001b[0mkwargs\u001b[0m\u001b[1;33m)\u001b[0m\u001b[1;33m:\u001b[0m\u001b[1;33m\u001b[0m\u001b[0m\n",
      "\u001b[1;32mc:\\users\\lucija\\appdata\\local\\programs\\python\\python36\\lib\\site-packages\\pandas\\plotting\\_core.py\u001b[0m in \u001b[0;36m__call__\u001b[1;34m(self, *args, **kwargs)\u001b[0m\n\u001b[0;32m    739\u001b[0m             \u001b[1;32melse\u001b[0m\u001b[1;33m:\u001b[0m\u001b[1;33m\u001b[0m\u001b[0m\n\u001b[0;32m    740\u001b[0m                 raise ValueError(\n\u001b[1;32m--> 741\u001b[1;33m                     \u001b[1;33m(\u001b[0m\u001b[1;34m\"plot kind {} can only be used for \"\u001b[0m \u001b[1;34m\"data frames\"\u001b[0m\u001b[1;33m)\u001b[0m\u001b[1;33m.\u001b[0m\u001b[0mformat\u001b[0m\u001b[1;33m(\u001b[0m\u001b[0mkind\u001b[0m\u001b[1;33m)\u001b[0m\u001b[1;33m\u001b[0m\u001b[0m\n\u001b[0m\u001b[0;32m    742\u001b[0m                 )\n\u001b[0;32m    743\u001b[0m         \u001b[1;32melif\u001b[0m \u001b[0mkind\u001b[0m \u001b[1;32min\u001b[0m \u001b[0mself\u001b[0m\u001b[1;33m.\u001b[0m\u001b[0m_series_kinds\u001b[0m\u001b[1;33m:\u001b[0m\u001b[1;33m\u001b[0m\u001b[0m\n",
      "\u001b[1;31mValueError\u001b[0m: plot kind scatter can only be used for data frames"
     ]
    }
   ],
   "source": [
    "lokali_po_mestih.cena.mean().sort_values().plot.scatter('mesto', 'povprecna_cena')"
   ]
  },
  {
   "cell_type": "markdown",
   "metadata": {},
   "source": [
    "## Doplačila, ocene in njihova povezanost"
   ]
  },
  {
   "cell_type": "code",
   "execution_count": 192,
   "metadata": {},
   "outputs": [],
   "source": [
    "lokali_po_oceni = lokali.groupby('ocena')"
   ]
  },
  {
   "cell_type": "code",
   "execution_count": 153,
   "metadata": {},
   "outputs": [
    {
     "data": {
      "text/plain": [
       "ocena\n",
       "0    102\n",
       "1      3\n",
       "2     12\n",
       "3     33\n",
       "4    196\n",
       "5    144\n",
       "dtype: int64"
      ]
     },
     "execution_count": 153,
     "metadata": {},
     "output_type": "execute_result"
    }
   ],
   "source": [
    "lokali_po_oceni.size()"
   ]
  },
  {
   "cell_type": "code",
   "execution_count": 191,
   "metadata": {
    "scrolled": true
   },
   "outputs": [
    {
     "data": {
      "text/plain": [
       "<matplotlib.axes._subplots.AxesSubplot at 0x1c517734eb8>"
      ]
     },
     "execution_count": 191,
     "metadata": {},
     "output_type": "execute_result"
    },
    {
     "data": {
      "image/png": "[encoded data removed]",
      "text/plain": [
       "<Figure size 432x288 with 1 Axes>"
      ]
     },
     "metadata": {
      "needs_background": "light"
     },
     "output_type": "display_data"
    }
   ],
   "source": [
    "lokali_po_oceni.size().plot.bar()"
   ]
  },
  {
   "cell_type": "markdown",
   "metadata": {},
   "source": [
    "Največ lokalov se lahko pohvali z oceno 4, tudi z oceno 5 jih je kar precej glede na ocene 1, 2 in 3. Opazimo, da razmeroma veliko število lokalov še ni bilo ocenjenih in jim torej pripada ocena 0. Na tem mestu je morda potreben komentar, da podatki, ki so na voljo, ne podajajo nujno najboljše slike popularnosti posameznih lokalov, to bi dobili, če bi poleg ocen lokalov pozali tudi njihovo dejansko obiskanost. Zadovoljili se bomo z ocenami, saj je to največ, kar lahko brez posebnih pooblastil izvemo o priljubljenosti lokalov. "
   ]
  },
  {
   "cell_type": "code",
   "execution_count": 154,
   "metadata": {},
   "outputs": [
    {
     "data": {
      "text/plain": [
       "ocena\n",
       "0    3.053137\n",
       "1    3.720000\n",
       "2    3.310000\n",
       "3    3.082121\n",
       "4    2.811378\n",
       "5    2.781667\n",
       "Name: doplacilo, dtype: float64"
      ]
     },
     "execution_count": 154,
     "metadata": {},
     "output_type": "execute_result"
    }
   ],
   "source": [
    "lokali_po_oceni.doplacilo.mean()"
   ]
  },
  {
   "cell_type": "code",
   "execution_count": 155,
   "metadata": {},
   "outputs": [
    {
     "data": {
      "text/plain": [
       "<matplotlib.axes._subplots.AxesSubplot at 0x1c51731e208>"
      ]
     },
     "execution_count": 155,
     "metadata": {},
     "output_type": "execute_result"
    },
    {
     "data": {
      "image/png": "[encoded data removed]",
      "text/plain": [
       "<Figure size 432x288 with 1 Axes>"
      ]
     },
     "metadata": {
      "needs_background": "light"
     },
     "output_type": "display_data"
    }
   ],
   "source": [
    "lokali_po_oceni.doplacilo.mean().plot()"
   ]
  },
  {
   "cell_type": "markdown",
   "metadata": {},
   "source": [
    "Če odmislimo neocenjene lokale, vidimo, da so dobro ocenjeni lokali praviloma cenejši od slabo ocenjenih. Ob tem se zastavlja vprašanje, če nista vzrok in posledica ravno obrnjena, torej da študenti cenejše lokale ocenjujejo bolje kot dražje. Odgovor bo podan v nadaljevanju."
   ]
  },
  {
   "cell_type": "code",
   "execution_count": 232,
   "metadata": {},
   "outputs": [],
   "source": [
    "lokali['cenovni razred'] = ((lokali['doplacilo'] * 100 + 99) // 100) "
   ]
  },
  {
   "cell_type": "code",
   "execution_count": 233,
   "metadata": {
    "scrolled": false
   },
   "outputs": [
    {
     "data": {
      "text/html": [
       "<div>\n",
       "<style scoped>\n",
       "    .dataframe tbody tr th:only-of-type {\n",
       "        vertical-align: middle;\n",
       "    }\n",
       "\n",
       "    .dataframe tbody tr th {\n",
       "        vertical-align: top;\n",
       "    }\n",
       "\n",
       "    .dataframe thead th {\n",
       "        text-align: right;\n",
       "    }\n",
       "</style>\n",
       "<table border=\"1\" class=\"dataframe\">\n",
       "  <thead>\n",
       "    <tr style=\"text-align: right;\">\n",
       "      <th></th>\n",
       "      <th>cena</th>\n",
       "      <th>doplacilo</th>\n",
       "      <th>mesto</th>\n",
       "      <th>ocena</th>\n",
       "      <th>ime</th>\n",
       "      <th>naslov</th>\n",
       "      <th>cenovni razred</th>\n",
       "    </tr>\n",
       "    <tr>\n",
       "      <th>id</th>\n",
       "      <th></th>\n",
       "      <th></th>\n",
       "      <th></th>\n",
       "      <th></th>\n",
       "      <th></th>\n",
       "      <th></th>\n",
       "      <th></th>\n",
       "    </tr>\n",
       "  </thead>\n",
       "  <tbody>\n",
       "    <tr>\n",
       "      <th>2724</th>\n",
       "      <td>2.63</td>\n",
       "      <td>0.00</td>\n",
       "      <td>LJUBLJANA</td>\n",
       "      <td>5</td>\n",
       "      <td>FAJN FUUD PIZZA</td>\n",
       "      <td>Poljanska cesta 22</td>\n",
       "      <td>0.0</td>\n",
       "    </tr>\n",
       "    <tr>\n",
       "      <th>2702</th>\n",
       "      <td>2.63</td>\n",
       "      <td>0.00</td>\n",
       "      <td>MARIBOR</td>\n",
       "      <td>5</td>\n",
       "      <td>FRESH 4 LIFE VETRINJSKA</td>\n",
       "      <td>Vetrinjska ulica 9</td>\n",
       "      <td>0.0</td>\n",
       "    </tr>\n",
       "    <tr>\n",
       "      <th>2650</th>\n",
       "      <td>2.63</td>\n",
       "      <td>0.00</td>\n",
       "      <td>MARIBOR</td>\n",
       "      <td>5</td>\n",
       "      <td>GOSPOSVETSKA</td>\n",
       "      <td>Gosposvetska cesta 83</td>\n",
       "      <td>0.0</td>\n",
       "    </tr>\n",
       "    <tr>\n",
       "      <th>2347</th>\n",
       "      <td>2.63</td>\n",
       "      <td>0.00</td>\n",
       "      <td>MARIBOR</td>\n",
       "      <td>5</td>\n",
       "      <td>KAVARNA IN SENDVIČARNA FERI</td>\n",
       "      <td>Smetanova ulica 17</td>\n",
       "      <td>0.0</td>\n",
       "    </tr>\n",
       "    <tr>\n",
       "      <th>2731</th>\n",
       "      <td>2.63</td>\n",
       "      <td>0.00</td>\n",
       "      <td>LJUBLJANA</td>\n",
       "      <td>5</td>\n",
       "      <td>MAFIJA</td>\n",
       "      <td>Jadranska 21</td>\n",
       "      <td>0.0</td>\n",
       "    </tr>\n",
       "    <tr>\n",
       "      <th>1984</th>\n",
       "      <td>2.63</td>\n",
       "      <td>0.00</td>\n",
       "      <td>VELENJE</td>\n",
       "      <td>5</td>\n",
       "      <td>PEK MATJAŽ TOMŠIČEVA</td>\n",
       "      <td>Tomšičeva cesta 15</td>\n",
       "      <td>0.0</td>\n",
       "    </tr>\n",
       "    <tr>\n",
       "      <th>1335</th>\n",
       "      <td>2.63</td>\n",
       "      <td>0.00</td>\n",
       "      <td>LJUBLJANA</td>\n",
       "      <td>5</td>\n",
       "      <td>PIZZERIA ŠESTINKA</td>\n",
       "      <td>Miklošičeva cesta 22</td>\n",
       "      <td>0.0</td>\n",
       "    </tr>\n",
       "    <tr>\n",
       "      <th>...</th>\n",
       "      <td>...</td>\n",
       "      <td>...</td>\n",
       "      <td>...</td>\n",
       "      <td>...</td>\n",
       "      <td>...</td>\n",
       "      <td>...</td>\n",
       "      <td>...</td>\n",
       "    </tr>\n",
       "    <tr>\n",
       "      <th>1432</th>\n",
       "      <td>7.00</td>\n",
       "      <td>4.37</td>\n",
       "      <td>JESENICE</td>\n",
       "      <td>2</td>\n",
       "      <td>EJGA - RESTAVRACIJA - KAVARNA - PUB - CATERING</td>\n",
       "      <td>Cesta maršala Tita 27</td>\n",
       "      <td>5.0</td>\n",
       "    </tr>\n",
       "    <tr>\n",
       "      <th>2654</th>\n",
       "      <td>7.00</td>\n",
       "      <td>4.37</td>\n",
       "      <td>MARIBOR</td>\n",
       "      <td>2</td>\n",
       "      <td>PIZZERIA HITRI GONZALES - DOSTAVA</td>\n",
       "      <td>Na Poljanah 18</td>\n",
       "      <td>5.0</td>\n",
       "    </tr>\n",
       "    <tr>\n",
       "      <th>2814</th>\n",
       "      <td>7.00</td>\n",
       "      <td>4.37</td>\n",
       "      <td>IZOLA/ISOLA</td>\n",
       "      <td>1</td>\n",
       "      <td>GOSTILNICA GUŠT</td>\n",
       "      <td>Drevored 1.maja 5</td>\n",
       "      <td>5.0</td>\n",
       "    </tr>\n",
       "    <tr>\n",
       "      <th>2161</th>\n",
       "      <td>7.00</td>\n",
       "      <td>4.37</td>\n",
       "      <td>LJUBLJANA</td>\n",
       "      <td>0</td>\n",
       "      <td>GOSTILNA IN PICERIJA PAVON</td>\n",
       "      <td>Njegoševa 6 K</td>\n",
       "      <td>5.0</td>\n",
       "    </tr>\n",
       "    <tr>\n",
       "      <th>2845</th>\n",
       "      <td>7.00</td>\n",
       "      <td>4.37</td>\n",
       "      <td>VIPAVA</td>\n",
       "      <td>0</td>\n",
       "      <td>PICERIJA NA PLACU</td>\n",
       "      <td>Goriška cesta 13</td>\n",
       "      <td>5.0</td>\n",
       "    </tr>\n",
       "    <tr>\n",
       "      <th>2205</th>\n",
       "      <td>7.00</td>\n",
       "      <td>4.37</td>\n",
       "      <td>IZOLA/ISOLA</td>\n",
       "      <td>0</td>\n",
       "      <td>PRIMAVERA IZOLA-DOSTAVA</td>\n",
       "      <td>Prešernova cesta 55</td>\n",
       "      <td>5.0</td>\n",
       "    </tr>\n",
       "    <tr>\n",
       "      <th>2882</th>\n",
       "      <td>7.00</td>\n",
       "      <td>4.37</td>\n",
       "      <td>LJUBLJANA</td>\n",
       "      <td>0</td>\n",
       "      <td>UTRIP - BAR, BISTRO IN KAVARNA</td>\n",
       "      <td>Šmartinska cesta 3</td>\n",
       "      <td>5.0</td>\n",
       "    </tr>\n",
       "  </tbody>\n",
       "</table>\n",
       "<p>490 rows × 7 columns</p>\n",
       "</div>"
      ],
      "text/plain": [
       "      cena  doplacilo        mesto  ocena                             ime  \\\n",
       "id                                                                          \n",
       "2724  2.63       0.00    LJUBLJANA      5                 FAJN FUUD PIZZA   \n",
       "2702  2.63       0.00      MARIBOR      5         FRESH 4 LIFE VETRINJSKA   \n",
       "2650  2.63       0.00      MARIBOR      5                    GOSPOSVETSKA   \n",
       "2347  2.63       0.00      MARIBOR      5     KAVARNA IN SENDVIČARNA FERI   \n",
       "2731  2.63       0.00    LJUBLJANA      5                          MAFIJA   \n",
       "...    ...        ...          ...    ...                             ...   \n",
       "2814  7.00       4.37  IZOLA/ISOLA      1                 GOSTILNICA GUŠT   \n",
       "2161  7.00       4.37    LJUBLJANA      0      GOSTILNA IN PICERIJA PAVON   \n",
       "2845  7.00       4.37       VIPAVA      0               PICERIJA NA PLACU   \n",
       "2205  7.00       4.37  IZOLA/ISOLA      0         PRIMAVERA IZOLA-DOSTAVA   \n",
       "2882  7.00       4.37    LJUBLJANA      0  UTRIP - BAR, BISTRO IN KAVARNA   \n",
       "\n",
       "                     naslov  cenovni razred  \n",
       "id                                           \n",
       "2724     Poljanska cesta 22             0.0  \n",
       "2702     Vetrinjska ulica 9             0.0  \n",
       "2650  Gosposvetska cesta 83             0.0  \n",
       "2347     Smetanova ulica 17             0.0  \n",
       "2731           Jadranska 21             0.0  \n",
       "...                     ...             ...  \n",
       "2814      Drevored 1.maja 5             5.0  \n",
       "2161          Njegoševa 6 K             5.0  \n",
       "2845       Goriška cesta 13             5.0  \n",
       "2205   Prešernova cesta 55              5.0  \n",
       "2882     Šmartinska cesta 3             5.0  \n",
       "\n",
       "[490 rows x 7 columns]"
      ]
     },
     "execution_count": 233,
     "metadata": {},
     "output_type": "execute_result"
    }
   ],
   "source": [
    "lokali.sort_values(['doplacilo', 'ocena'], ascending=[True, False])"
   ]
  },
  {
   "cell_type": "code",
   "execution_count": 234,
   "metadata": {},
   "outputs": [],
   "source": [
    "lokali_po_doplacilu = lokali.groupby('cenovni razred')"
   ]
  },
  {
   "cell_type": "code",
   "execution_count": 235,
   "metadata": {},
   "outputs": [
    {
     "data": {
      "text/plain": [
       "cenovni razred\n",
       "0.0     21\n",
       "1.0     16\n",
       "2.0     41\n",
       "3.0    176\n",
       "4.0    193\n",
       "5.0     43\n",
       "dtype: int64"
      ]
     },
     "execution_count": 235,
     "metadata": {},
     "output_type": "execute_result"
    }
   ],
   "source": [
    "lokali_po_doplacilu.size()"
   ]
  },
  {
   "cell_type": "code",
   "execution_count": 236,
   "metadata": {},
   "outputs": [
    {
     "data": {
      "text/plain": [
       "<matplotlib.axes._subplots.AxesSubplot at 0x1c5189ec278>"
      ]
     },
     "execution_count": 236,
     "metadata": {},
     "output_type": "execute_result"
    },
    {
     "data": {
      "image/png": "[encoded data removed]",
      "text/plain": [
       "<Figure size 432x288 with 1 Axes>"
      ]
     },
     "metadata": {
      "needs_background": "light"
     },
     "output_type": "display_data"
    }
   ],
   "source": [
    "lokali_po_doplacilu.size().plot.bar()"
   ]
  },
  {
   "cell_type": "code",
   "execution_count": 166,
   "metadata": {},
   "outputs": [
    {
     "data": {
      "text/plain": [
       "21"
      ]
     },
     "execution_count": 166,
     "metadata": {},
     "output_type": "execute_result"
    }
   ],
   "source": [
    "len(lokali[lokali.doplacilo == 0])"
   ]
  },
  {
   "cell_type": "code",
   "execution_count": 167,
   "metadata": {},
   "outputs": [
    {
     "data": {
      "text/plain": [
       "25"
      ]
     },
     "execution_count": 167,
     "metadata": {},
     "output_type": "execute_result"
    }
   ],
   "source": [
    "len(lokali[lokali.doplacilo == 4.37])"
   ]
  },
  {
   "cell_type": "markdown",
   "metadata": {},
   "source": [
    "Lokale smo razdelili v skupine po cenovnih razredih, kjer so v razredu 0.0 tisti, kjer lahko jemo brez doplačila, v razredu 1.0 moramo doplačati od 0,01 € do 1,00 €, v 2.0 doplačamo od 1,01 € do 2,00 € in tako naprej do razreda 5.0, kjer doplačamo od 4,01 € do 4,37 € kar je najvišje možno doplačilo. Vidimo, da največkrat doplačamo med 2 in 4 evri. Brez doplačila lahko jemo v 21 lokalih, lokalov z najvišjim doplačilom pa je 25."
   ]
  },
  {
   "cell_type": "code",
   "execution_count": 187,
   "metadata": {},
   "outputs": [
    {
     "data": {
      "text/plain": [
       "cenovni razred\n",
       "0.0    4.333333\n",
       "1.0    3.500000\n",
       "2.0    3.292683\n",
       "3.0    3.369318\n",
       "4.0    3.233161\n",
       "5.0    3.046512\n",
       "Name: ocena, dtype: float64"
      ]
     },
     "execution_count": 187,
     "metadata": {},
     "output_type": "execute_result"
    }
   ],
   "source": [
    "lokali_po_doplacilu.ocena.mean()"
   ]
  },
  {
   "cell_type": "code",
   "execution_count": 184,
   "metadata": {},
   "outputs": [
    {
     "data": {
      "text/plain": [
       "<matplotlib.axes._subplots.AxesSubplot at 0x1c517514550>"
      ]
     },
     "execution_count": 184,
     "metadata": {},
     "output_type": "execute_result"
    },
    {
     "data": {
      "image/png": "[encoded data removed]",
      "text/plain": [
       "<Figure size 432x288 with 1 Axes>"
      ]
     },
     "metadata": {
      "needs_background": "light"
     },
     "output_type": "display_data"
    }
   ],
   "source": [
    "lokali_po_doplacilu.ocena.mean().plot()"
   ]
  },
  {
   "cell_type": "markdown",
   "metadata": {},
   "source": [
    "Res se je izkazalo, da je študentom višina doplačila zelo pomemben dejavnik pri ocenjevanju lokalov. Tisti brez doplačila so ocenjeni bistveno bolje od vseh ostalih, pa tudi naprej je graf z manjšo izjemo padajoč. "
   ]
  },
  {
   "cell_type": "markdown",
   "metadata": {},
   "source": [
    "## Dodatne lastnosti ponudbe"
   ]
  },
  {
   "cell_type": "code",
   "execution_count": 203,
   "metadata": {},
   "outputs": [
    {
     "data": {
      "text/html": [
       "<div>\n",
       "<style scoped>\n",
       "    .dataframe tbody tr th:only-of-type {\n",
       "        vertical-align: middle;\n",
       "    }\n",
       "\n",
       "    .dataframe tbody tr th {\n",
       "        vertical-align: top;\n",
       "    }\n",
       "\n",
       "    .dataframe thead th {\n",
       "        text-align: right;\n",
       "    }\n",
       "</style>\n",
       "<table border=\"1\" class=\"dataframe\">\n",
       "  <thead>\n",
       "    <tr style=\"text-align: right;\">\n",
       "      <th></th>\n",
       "      <th>lastnost</th>\n",
       "    </tr>\n",
       "    <tr>\n",
       "      <th>id</th>\n",
       "      <th></th>\n",
       "    </tr>\n",
       "  </thead>\n",
       "  <tbody>\n",
       "    <tr>\n",
       "      <th>2605</th>\n",
       "      <td>Dostop za invalide</td>\n",
       "    </tr>\n",
       "    <tr>\n",
       "      <th>2605</th>\n",
       "      <td>Kosilo</td>\n",
       "    </tr>\n",
       "    <tr>\n",
       "      <th>2605</th>\n",
       "      <td>Odprt ob vikendih</td>\n",
       "    </tr>\n",
       "    <tr>\n",
       "      <th>1478</th>\n",
       "      <td>Dostop za invalide</td>\n",
       "    </tr>\n",
       "    <tr>\n",
       "      <th>1478</th>\n",
       "      <td>Vegetarijansko</td>\n",
       "    </tr>\n",
       "    <tr>\n",
       "      <th>...</th>\n",
       "      <td>...</td>\n",
       "    </tr>\n",
       "    <tr>\n",
       "      <th>1791</th>\n",
       "      <td>Odprt ob vikendih</td>\n",
       "    </tr>\n",
       "    <tr>\n",
       "      <th>2009</th>\n",
       "      <td>Dostop za invalide</td>\n",
       "    </tr>\n",
       "    <tr>\n",
       "      <th>2009</th>\n",
       "      <td>Vegetarijansko</td>\n",
       "    </tr>\n",
       "    <tr>\n",
       "      <th>2009</th>\n",
       "      <td>Pizza</td>\n",
       "    </tr>\n",
       "    <tr>\n",
       "      <th>2009</th>\n",
       "      <td>Odprt ob vikendih</td>\n",
       "    </tr>\n",
       "  </tbody>\n",
       "</table>\n",
       "<p>1778 rows × 1 columns</p>\n",
       "</div>"
      ],
      "text/plain": [
       "                lastnost\n",
       "id                      \n",
       "2605  Dostop za invalide\n",
       "2605              Kosilo\n",
       "2605   Odprt ob vikendih\n",
       "1478  Dostop za invalide\n",
       "1478      Vegetarijansko\n",
       "...                  ...\n",
       "1791   Odprt ob vikendih\n",
       "2009  Dostop za invalide\n",
       "2009      Vegetarijansko\n",
       "2009               Pizza\n",
       "2009   Odprt ob vikendih\n",
       "\n",
       "[1778 rows x 1 columns]"
      ]
     },
     "execution_count": 203,
     "metadata": {},
     "output_type": "execute_result"
    }
   ],
   "source": [
    "lastnosti"
   ]
  },
  {
   "cell_type": "code",
   "execution_count": 237,
   "metadata": {},
   "outputs": [
    {
     "data": {
      "text/plain": [
       "lastnost\n",
       "Kosilo                       439\n",
       "Vegetarijansko               396\n",
       "Odprt ob vikendih            308\n",
       "Dostop za invalide           214\n",
       "Solata                       116\n",
       "Dostop za invalide (WC)      104\n",
       "Študentske ugodnosti          66\n",
       "Dostava                       53\n",
       "Pizza                         48\n",
       "Nov lokal                     26\n",
       "Celiakiji prijazni obroki      5\n",
       "Hitra hrana                    3\n",
       "dtype: int64"
      ]
     },
     "execution_count": 237,
     "metadata": {},
     "output_type": "execute_result"
    }
   ],
   "source": [
    "lastnosti.groupby('lastnost').size().sort_values(ascending=False)"
   ]
  },
  {
   "cell_type": "code",
   "execution_count": 201,
   "metadata": {
    "scrolled": false
   },
   "outputs": [
    {
     "data": {
      "text/plain": [
       "<matplotlib.axes._subplots.AxesSubplot at 0x1c5187fb630>"
      ]
     },
     "execution_count": 201,
     "metadata": {},
     "output_type": "execute_result"
    },
    {
     "data": {
      "image/png": "[encoded data removed]",
      "text/plain": [
       "<Figure size 432x288 with 1 Axes>"
      ]
     },
     "metadata": {
      "needs_background": "light"
     },
     "output_type": "display_data"
    }
   ],
   "source": [
    "lastnosti.groupby('lastnost').size().sort_values(ascending=False).plot.bar()"
   ]
  },
  {
   "cell_type": "code",
   "execution_count": 216,
   "metadata": {},
   "outputs": [
    {
     "data": {
      "text/html": [
       "<div>\n",
       "<style scoped>\n",
       "    .dataframe tbody tr th:only-of-type {\n",
       "        vertical-align: middle;\n",
       "    }\n",
       "\n",
       "    .dataframe tbody tr th {\n",
       "        vertical-align: top;\n",
       "    }\n",
       "\n",
       "    .dataframe thead th {\n",
       "        text-align: right;\n",
       "    }\n",
       "</style>\n",
       "<table border=\"1\" class=\"dataframe\">\n",
       "  <thead>\n",
       "    <tr style=\"text-align: right;\">\n",
       "      <th></th>\n",
       "      <th>cena</th>\n",
       "      <th>doplacilo</th>\n",
       "      <th>mesto</th>\n",
       "      <th>ocena</th>\n",
       "      <th>ime</th>\n",
       "      <th>naslov</th>\n",
       "      <th>lastnost</th>\n",
       "    </tr>\n",
       "    <tr>\n",
       "      <th>id</th>\n",
       "      <th></th>\n",
       "      <th></th>\n",
       "      <th></th>\n",
       "      <th></th>\n",
       "      <th></th>\n",
       "      <th></th>\n",
       "      <th></th>\n",
       "    </tr>\n",
       "  </thead>\n",
       "  <tbody>\n",
       "    <tr>\n",
       "      <th>2605</th>\n",
       "      <td>5.50</td>\n",
       "      <td>2.87</td>\n",
       "      <td>LJUBLJANA</td>\n",
       "      <td>4</td>\n",
       "      <td>&amp;quot;SOLE&amp;quot; OKREPČEVALNICA, PIZZERIJA, SL...</td>\n",
       "      <td>Kolodvorska ulica 18</td>\n",
       "      <td>Dostop za invalide</td>\n",
       "    </tr>\n",
       "    <tr>\n",
       "      <th>2605</th>\n",
       "      <td>5.50</td>\n",
       "      <td>2.87</td>\n",
       "      <td>LJUBLJANA</td>\n",
       "      <td>4</td>\n",
       "      <td>&amp;quot;SOLE&amp;quot; OKREPČEVALNICA, PIZZERIJA, SL...</td>\n",
       "      <td>Kolodvorska ulica 18</td>\n",
       "      <td>Kosilo</td>\n",
       "    </tr>\n",
       "    <tr>\n",
       "      <th>2605</th>\n",
       "      <td>5.50</td>\n",
       "      <td>2.87</td>\n",
       "      <td>LJUBLJANA</td>\n",
       "      <td>4</td>\n",
       "      <td>&amp;quot;SOLE&amp;quot; OKREPČEVALNICA, PIZZERIJA, SL...</td>\n",
       "      <td>Kolodvorska ulica 18</td>\n",
       "      <td>Odprt ob vikendih</td>\n",
       "    </tr>\n",
       "    <tr>\n",
       "      <th>1478</th>\n",
       "      <td>6.53</td>\n",
       "      <td>3.90</td>\n",
       "      <td>LJUBLJANA</td>\n",
       "      <td>4</td>\n",
       "      <td>ABI FALAFEL</td>\n",
       "      <td>Trubarjeva cesta 40</td>\n",
       "      <td>Dostop za invalide</td>\n",
       "    </tr>\n",
       "    <tr>\n",
       "      <th>1478</th>\n",
       "      <td>6.53</td>\n",
       "      <td>3.90</td>\n",
       "      <td>LJUBLJANA</td>\n",
       "      <td>4</td>\n",
       "      <td>ABI FALAFEL</td>\n",
       "      <td>Trubarjeva cesta 40</td>\n",
       "      <td>Vegetarijansko</td>\n",
       "    </tr>\n",
       "    <tr>\n",
       "      <th>1478</th>\n",
       "      <td>6.53</td>\n",
       "      <td>3.90</td>\n",
       "      <td>LJUBLJANA</td>\n",
       "      <td>4</td>\n",
       "      <td>ABI FALAFEL</td>\n",
       "      <td>Trubarjeva cesta 40</td>\n",
       "      <td>Kosilo</td>\n",
       "    </tr>\n",
       "    <tr>\n",
       "      <th>1478</th>\n",
       "      <td>6.53</td>\n",
       "      <td>3.90</td>\n",
       "      <td>LJUBLJANA</td>\n",
       "      <td>4</td>\n",
       "      <td>ABI FALAFEL</td>\n",
       "      <td>Trubarjeva cesta 40</td>\n",
       "      <td>Odprt ob vikendih</td>\n",
       "    </tr>\n",
       "    <tr>\n",
       "      <th>...</th>\n",
       "      <td>...</td>\n",
       "      <td>...</td>\n",
       "      <td>...</td>\n",
       "      <td>...</td>\n",
       "      <td>...</td>\n",
       "      <td>...</td>\n",
       "      <td>...</td>\n",
       "    </tr>\n",
       "    <tr>\n",
       "      <th>2771</th>\n",
       "      <td>3.23</td>\n",
       "      <td>0.60</td>\n",
       "      <td>LJUBLJANA</td>\n",
       "      <td>4</td>\n",
       "      <td>ŽITO LJUBLJANA BAVARSKI DVOR</td>\n",
       "      <td>Slovenska cesta 58</td>\n",
       "      <td>Odprt ob vikendih</td>\n",
       "    </tr>\n",
       "    <tr>\n",
       "      <th>1791</th>\n",
       "      <td>3.23</td>\n",
       "      <td>0.60</td>\n",
       "      <td>LJUBLJANA</td>\n",
       "      <td>4</td>\n",
       "      <td>ŽITO LJUBLJANA VODNIK</td>\n",
       "      <td>Vodnikov trg 5</td>\n",
       "      <td>Pizza</td>\n",
       "    </tr>\n",
       "    <tr>\n",
       "      <th>1791</th>\n",
       "      <td>3.23</td>\n",
       "      <td>0.60</td>\n",
       "      <td>LJUBLJANA</td>\n",
       "      <td>4</td>\n",
       "      <td>ŽITO LJUBLJANA VODNIK</td>\n",
       "      <td>Vodnikov trg 5</td>\n",
       "      <td>Odprt ob vikendih</td>\n",
       "    </tr>\n",
       "    <tr>\n",
       "      <th>2009</th>\n",
       "      <td>3.23</td>\n",
       "      <td>0.60</td>\n",
       "      <td>KOPER/CAPODISTRIA</td>\n",
       "      <td>2</td>\n",
       "      <td>ŽITO TRŽNICA KOPER</td>\n",
       "      <td>Pristaniška ulica 2</td>\n",
       "      <td>Dostop za invalide</td>\n",
       "    </tr>\n",
       "    <tr>\n",
       "      <th>2009</th>\n",
       "      <td>3.23</td>\n",
       "      <td>0.60</td>\n",
       "      <td>KOPER/CAPODISTRIA</td>\n",
       "      <td>2</td>\n",
       "      <td>ŽITO TRŽNICA KOPER</td>\n",
       "      <td>Pristaniška ulica 2</td>\n",
       "      <td>Vegetarijansko</td>\n",
       "    </tr>\n",
       "    <tr>\n",
       "      <th>2009</th>\n",
       "      <td>3.23</td>\n",
       "      <td>0.60</td>\n",
       "      <td>KOPER/CAPODISTRIA</td>\n",
       "      <td>2</td>\n",
       "      <td>ŽITO TRŽNICA KOPER</td>\n",
       "      <td>Pristaniška ulica 2</td>\n",
       "      <td>Pizza</td>\n",
       "    </tr>\n",
       "    <tr>\n",
       "      <th>2009</th>\n",
       "      <td>3.23</td>\n",
       "      <td>0.60</td>\n",
       "      <td>KOPER/CAPODISTRIA</td>\n",
       "      <td>2</td>\n",
       "      <td>ŽITO TRŽNICA KOPER</td>\n",
       "      <td>Pristaniška ulica 2</td>\n",
       "      <td>Odprt ob vikendih</td>\n",
       "    </tr>\n",
       "  </tbody>\n",
       "</table>\n",
       "<p>1778 rows × 7 columns</p>\n",
       "</div>"
      ],
      "text/plain": [
       "      cena  doplacilo              mesto  ocena  \\\n",
       "id                                                \n",
       "2605  5.50       2.87          LJUBLJANA      4   \n",
       "2605  5.50       2.87          LJUBLJANA      4   \n",
       "2605  5.50       2.87          LJUBLJANA      4   \n",
       "1478  6.53       3.90          LJUBLJANA      4   \n",
       "1478  6.53       3.90          LJUBLJANA      4   \n",
       "...    ...        ...                ...    ...   \n",
       "1791  3.23       0.60          LJUBLJANA      4   \n",
       "2009  3.23       0.60  KOPER/CAPODISTRIA      2   \n",
       "2009  3.23       0.60  KOPER/CAPODISTRIA      2   \n",
       "2009  3.23       0.60  KOPER/CAPODISTRIA      2   \n",
       "2009  3.23       0.60  KOPER/CAPODISTRIA      2   \n",
       "\n",
       "                                                    ime                naslov  \\\n",
       "id                                                                              \n",
       "2605  &quot;SOLE&quot; OKREPČEVALNICA, PIZZERIJA, SL...  Kolodvorska ulica 18   \n",
       "2605  &quot;SOLE&quot; OKREPČEVALNICA, PIZZERIJA, SL...  Kolodvorska ulica 18   \n",
       "2605  &quot;SOLE&quot; OKREPČEVALNICA, PIZZERIJA, SL...  Kolodvorska ulica 18   \n",
       "1478                                        ABI FALAFEL   Trubarjeva cesta 40   \n",
       "1478                                        ABI FALAFEL   Trubarjeva cesta 40   \n",
       "...                                                 ...                   ...   \n",
       "1791                              ŽITO LJUBLJANA VODNIK        Vodnikov trg 5   \n",
       "2009                                 ŽITO TRŽNICA KOPER   Pristaniška ulica 2   \n",
       "2009                                 ŽITO TRŽNICA KOPER   Pristaniška ulica 2   \n",
       "2009                                 ŽITO TRŽNICA KOPER   Pristaniška ulica 2   \n",
       "2009                                 ŽITO TRŽNICA KOPER   Pristaniška ulica 2   \n",
       "\n",
       "                lastnost  \n",
       "id                        \n",
       "2605  Dostop za invalide  \n",
       "2605              Kosilo  \n",
       "2605   Odprt ob vikendih  \n",
       "1478  Dostop za invalide  \n",
       "1478      Vegetarijansko  \n",
       "...                  ...  \n",
       "1791   Odprt ob vikendih  \n",
       "2009  Dostop za invalide  \n",
       "2009      Vegetarijansko  \n",
       "2009               Pizza  \n",
       "2009   Odprt ob vikendih  \n",
       "\n",
       "[1778 rows x 7 columns]"
      ]
     },
     "execution_count": 216,
     "metadata": {},
     "output_type": "execute_result"
    }
   ],
   "source": [
    "pd.merge(lokali, lastnosti, left_on='id', right_on='id')"
   ]
  },
  {
   "cell_type": "code",
   "execution_count": 211,
   "metadata": {},
   "outputs": [
    {
     "data": {
      "text/plain": [
       "lastnost\n",
       "Dostava                      3.673585\n",
       "Vegetarijansko               3.068258\n",
       "Odprt ob vikendih            3.063994\n",
       "Solata                       3.045259\n",
       "Kosilo                       3.022642\n",
       "Dostop za invalide           2.896215\n",
       "Dostop za invalide (WC)      2.807404\n",
       "Študentske ugodnosti         2.759697\n",
       "Nov lokal                    2.578846\n",
       "Celiakiji prijazni obroki    2.448000\n",
       "Pizza                        1.787292\n",
       "Hitra hrana                  0.956667\n",
       "Name: doplacilo, dtype: float64"
      ]
     },
     "execution_count": 211,
     "metadata": {},
     "output_type": "execute_result"
    }
   ],
   "source": [
    "pd.merge(lokali, lastnosti, left_on='id', right_on='id').groupby('lastnost').doplacilo.mean().sort_values(ascending=False)"
   ]
  },
  {
   "cell_type": "code",
   "execution_count": 215,
   "metadata": {},
   "outputs": [
    {
     "data": {
      "text/plain": [
       "<matplotlib.axes._subplots.AxesSubplot at 0x1c51895f4a8>"
      ]
     },
     "execution_count": 215,
     "metadata": {},
     "output_type": "execute_result"
    },
    {
     "data": {
      "image/png": "[encoded data removed]",
      "text/plain": [
       "<Figure size 432x288 with 1 Axes>"
      ]
     },
     "metadata": {
      "needs_background": "light"
     },
     "output_type": "display_data"
    }
   ],
   "source": [
    "pd.merge(lokali, lastnosti, left_on='id', right_on='id').groupby('lastnost')\n",
    ".doplacilo.mean().sort_values(ascending=False).plot.bar()"
   ]
  },
  {
   "cell_type": "markdown",
   "metadata": {},
   "source": [
    "Iz diagrama je razvidno, da so v povprečju najdražji lokali tisti, ki hrano dostavijo na željeni naslov, najcenejši pa tisti, ki ponujajo pizze in hitro hrano. Rezultat se zdi smiselen. "
   ]
  },
  {
   "cell_type": "code",
   "execution_count": 212,
   "metadata": {
    "scrolled": true
   },
   "outputs": [
    {
     "data": {
      "text/plain": [
       "lastnost\n",
       "Celiakiji prijazni obroki    4.600000\n",
       "Hitra hrana                  4.000000\n",
       "Študentske ugodnosti         3.621212\n",
       "Odprt ob vikendih            3.577922\n",
       "Pizza                        3.500000\n",
       "Dostop za invalide           3.467290\n",
       "Dostop za invalide (WC)      3.307692\n",
       "Kosilo                       3.302961\n",
       "Vegetarijansko               3.250000\n",
       "Dostava                      3.226415\n",
       "Solata                       3.206897\n",
       "Nov lokal                    2.846154\n",
       "Name: ocena, dtype: float64"
      ]
     },
     "execution_count": 212,
     "metadata": {},
     "output_type": "execute_result"
    }
   ],
   "source": [
    "pd.merge(lokali, lastnosti, left_on='id', right_on='id').groupby('lastnost').ocena.mean().sort_values(ascending=False)"
   ]
  },
  {
   "cell_type": "code",
   "execution_count": 213,
   "metadata": {},
   "outputs": [
    {
     "data": {
      "text/plain": [
       "<matplotlib.axes._subplots.AxesSubplot at 0x1c5188e8588>"
      ]
     },
     "execution_count": 213,
     "metadata": {},
     "output_type": "execute_result"
    },
    {
     "data": {
      "image/png": "[encoded data removed]",
      "text/plain": [
       "<Figure size 432x288 with 1 Axes>"
      ]
     },
     "metadata": {
      "needs_background": "light"
     },
     "output_type": "display_data"
    }
   ],
   "source": [
    "pd.merge(lokali, lastnosti, left_on='id', right_on='id').groupby('lastnost')\n",
    ".ocena.mean().sort_values(ascending=False).plot.bar()"
   ]
  },
  {
   "cell_type": "markdown",
   "metadata": {},
   "source": [
    "Ocena lokala je relativno malo odvisna od dodatnih lastnosti ponudbe le-tega. Nekoliko izstopa le ocena lokalov s celiakiji prijaznimi obroki, s hitro hrano in ocena novih lokalov, vendar je to očitna posledica majhne zastopanosti teh treh lastnosti ponudbe. Iz diagrama pred tem je namreč vidno, da so to zadnje tri lastnosti po zastopanosti, torej je tu prisotna večja statistična napaka."
   ]
  },
  {
   "cell_type": "markdown",
   "metadata": {},
   "source": [
    "## Zaključek \n",
    "Ponudba študentske prehrane je največjem študijskem mestu Ljubljani velika, po ostalih mestih pa manjša. Lokali ponujajo različne možnosti. Ob analizi dejavnikov, kaj vpliva na oceno, ki jo študenti dodelijo posameznim lokalom, pa lahko zaključimo, da je edini zares pomemben dejavnik cena obroka. Cenejši lokali so ocenjeni bistveno bolje od dražjih. To kaže, da so študentski boni za študente zares pomembni in ohranjajo svoj prvotni namen, študentom omogočiti razmeroma kvaliteten obrok po njim dostopni ceni. "
   ]
  }
 ],
 "metadata": {
  "kernelspec": {
   "display_name": "Python 3",
   "language": "python",
   "name": "python3"
  },
  "language_info": {
   "codemirror_mode": {
    "name": "ipython",
    "version": 3
   },
   "file_extension": ".py",
   "mimetype": "text/x-python",
   "name": "python",
   "nbconvert_exporter": "python",
   "pygments_lexer": "ipython3",
   "version": "3.6.4"
  }
 },
 "nbformat": 4,
 "nbformat_minor": 2
}
